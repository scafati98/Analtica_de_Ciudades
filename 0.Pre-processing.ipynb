{
 "cells": [
  {
   "cell_type": "markdown",
   "metadata": {},
   "source": [
    "## Pre-processing\n",
    "\n",
    "Datos del SUACI.\n",
    "\n",
    "[Fuente](https://data.buenosaires.gob.ar/dataset/sistema-unico-atencion-ciudadana)."
   ]
  },
  {
   "cell_type": "markdown",
   "metadata": {},
   "source": [
    "- No utilizo los datasets del 2011 : 2015 puesto que no tenian la categoria: VEREDA SUCIA POR MASCOTAS.\n",
    "- Tampoco uso el 2016 puesto que comenzo a usarla a partir de Noviembre.\n",
    "- El 2019 no tiene la categoria tampoco.\n",
    "- El 2020 tiene datos a partir de agosto, igualmente lo utilizo."
   ]
  },
  {
   "cell_type": "code",
   "execution_count": 2,
   "metadata": {},
   "outputs": [],
   "source": [
    "import pandas as pd"
   ]
  },
  {
   "cell_type": "code",
   "execution_count": 3,
   "metadata": {},
   "outputs": [
    {
     "name": "stderr",
     "output_type": "stream",
     "text": [
      "/home/eugenio/ITBA/An_Ciudades/venvCiudades/lib/python3.8/site-packages/IPython/core/interactiveshell.py:3169: DtypeWarning: Columns (8,13,14) have mixed types.Specify dtype option on import or set low_memory=False.\n",
      "  has_raised = await self.run_ast_nodes(code_ast.body, cell_name,\n"
     ]
    }
   ],
   "source": [
    "df_2017 = pd.read_csv('2017.csv', sep=';')\n",
    "df_2018 = pd.read_csv('2018.csv', sep=',')\n",
    "df_2020 = pd.read_csv('2020.csv', sep=',')\n",
    "df_2021 = pd.read_csv('2021.csv', sep=',')"
   ]
  },
  {
   "cell_type": "code",
   "execution_count": 4,
   "metadata": {},
   "outputs": [
    {
     "data": {
      "text/plain": [
       "Index(['Contacto', 'Periodo', 'Categoria', 'Subcategoria', 'Prestacion',\n",
       "       'Tipo.Prestacion', 'Fecha.Ingreso', 'Hora.Ingreso', 'Domicilio.CGPC',\n",
       "       'Domicilio.Barrio', 'Domicilio.Calle', 'Domicilio.Altura',\n",
       "       'Esquina.Proxima', 'Lat', 'Lon', 'Canal', 'Genero',\n",
       "       'Estado.del.Contacto', 'Fecha.Cierre.Del.Contacto'],\n",
       "      dtype='object')"
      ]
     },
     "execution_count": 4,
     "metadata": {},
     "output_type": "execute_result"
    }
   ],
   "source": [
    "df_2021.columns"
   ]
  },
  {
   "cell_type": "code",
   "execution_count": 5,
   "metadata": {},
   "outputs": [],
   "source": [
    "df_2021.rename(columns={\n",
    "    'Periodo': 'periodo',\n",
    "    'Prestacion': 'concepto',\n",
    "    'Tipo.Prestacion': 'tipo_prestacion',\n",
    "    'Domicilio.CGPC': 'domicilio_cgpc',\n",
    "    'Domicilio.Barrio': 'domicilio_barrio'\n",
    "}, inplace=True)"
   ]
  },
  {
   "cell_type": "code",
   "execution_count": null,
   "metadata": {},
   "outputs": [],
   "source": [
    "for col in range(len(df_2017.columns)):\n",
    "        df_2017.columns.values[col] = df_2017.columns.values[col].lower()"
   ]
  },
  {
   "cell_type": "code",
   "execution_count": null,
   "metadata": {},
   "outputs": [],
   "source": [
    "cols = ['periodo',\n",
    "        'concepto',\n",
    "        'tipo_prestacion',\n",
    "        'domicilio_cgpc',\n",
    "        'domicilio_barrio'   \n",
    "       ]"
   ]
  },
  {
   "cell_type": "code",
   "execution_count": null,
   "metadata": {},
   "outputs": [],
   "source": [
    "df_2017 = df_2017[cols]\n",
    "df_2018 = df_2018[cols]\n",
    "df_2020 = df_2020[cols]\n",
    "df_2021 = df_2021[cols]"
   ]
  },
  {
   "cell_type": "code",
   "execution_count": null,
   "metadata": {},
   "outputs": [],
   "source": [
    "frames = [df_2017 ,df_2018 ,df_2020, df_2021]\n",
    "df = pd.concat(frames)"
   ]
  },
  {
   "cell_type": "code",
   "execution_count": null,
   "metadata": {},
   "outputs": [],
   "source": [
    "df.head()"
   ]
  },
  {
   "cell_type": "code",
   "execution_count": null,
   "metadata": {},
   "outputs": [],
   "source": [
    "def extract_year(x):\n",
    "    return str(x)[0:4]\n",
    "\n",
    "def extract_month(x):\n",
    "    return str(x)[4:6]\n",
    "\n",
    "df['year'] = df.periodo.apply(lambda x: extract_year(x))\n",
    "df['month'] = df.periodo.apply(lambda x: extract_month(x))"
   ]
  },
  {
   "cell_type": "code",
   "execution_count": null,
   "metadata": {},
   "outputs": [],
   "source": [
    "df.head()"
   ]
  },
  {
   "cell_type": "code",
   "execution_count": null,
   "metadata": {},
   "outputs": [],
   "source": [
    "df.rename(columns = {\n",
    "    'domicilio_cgpc': 'comuna',\n",
    "    'domicilio_barrio': 'barrio'},\n",
    "          inplace=True)"
   ]
  },
  {
   "cell_type": "code",
   "execution_count": null,
   "metadata": {},
   "outputs": [],
   "source": [
    "df.head()"
   ]
  },
  {
   "cell_type": "code",
   "execution_count": 15,
   "metadata": {},
   "outputs": [],
   "source": [
    "df.to_csv('dataset.csv', index=False)"
   ]
  }
 ],
 "metadata": {
  "kernelspec": {
   "display_name": "Python 3",
   "language": "python",
   "name": "python3"
  },
  "language_info": {
   "codemirror_mode": {
    "name": "ipython",
    "version": 3
   },
   "file_extension": ".py",
   "mimetype": "text/x-python",
   "name": "python",
   "nbconvert_exporter": "python",
   "pygments_lexer": "ipython3",
   "version": "3.8.5"
  },
  "metadata": {
   "interpreter": {
    "hash": "35f836a548665fafdf9ff90cafd854db5df4009a9423400ad7f88059a57bd503"
   }
  }
 },
 "nbformat": 4,
 "nbformat_minor": 2
}
